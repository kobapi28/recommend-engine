{
  "nbformat": 4,
  "nbformat_minor": 0,
  "metadata": {
    "colab": {
      "name": "2_MatrixFactorization-MovieLens100k.ipynb",
      "provenance": [],
      "authorship_tag": "ABX9TyOKs4MzHWNjg/Ct2WaVRVPz",
      "include_colab_link": true
    },
    "kernelspec": {
      "name": "python3",
      "display_name": "Python 3"
    },
    "language_info": {
      "name": "python"
    }
  },
  "cells": [
    {
      "cell_type": "markdown",
      "metadata": {
        "id": "view-in-github",
        "colab_type": "text"
      },
      "source": [
        "<a href=\"https://colab.research.google.com/github/shoma3571/recommend-engine/blob/main/chapter2/2_MatrixFactorization_MovieLens100k.ipynb\" target=\"_parent\"><img src=\"https://colab.research.google.com/assets/colab-badge.svg\" alt=\"Open In Colab\"/></a>"
      ]
    },
    {
      "cell_type": "code",
      "execution_count": null,
      "metadata": {
        "id": "dpWwtIskvP0X"
      },
      "outputs": [],
      "source": [
        ""
      ]
    }
  ]
}