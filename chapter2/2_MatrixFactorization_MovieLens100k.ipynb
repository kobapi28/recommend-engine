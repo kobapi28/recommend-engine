{
  "nbformat": 4,
  "nbformat_minor": 0,
  "metadata": {
    "colab": {
      "name": "2_MatrixFactorization-MovieLens100k.ipynb",
      "provenance": [],
      "authorship_tag": "ABX9TyOKiWf2ovM3lPQ4M6vrBDJA",
      "include_colab_link": true
    },
    "kernelspec": {
      "name": "python3",
      "display_name": "Python 3"
    },
    "language_info": {
      "name": "python"
    }
  },
  "cells": [
    {
      "cell_type": "markdown",
      "metadata": {
        "id": "view-in-github",
        "colab_type": "text"
      },
      "source": [
        "<a href=\"https://colab.research.google.com/github/shoma3571/recommend-engine/blob/main/chapter2/2_MatrixFactorization_MovieLens100k.ipynb\" target=\"_parent\"><img src=\"https://colab.research.google.com/assets/colab-badge.svg\" alt=\"Open In Colab\"/></a>"
      ]
    },
    {
      "cell_type": "code",
      "execution_count": 1,
      "metadata": {
        "id": "dpWwtIskvP0X"
      },
      "outputs": [],
      "source": [
        "import pandas as pd\n",
        "import numpy as np\n",
        "from scipy.sparse import csr_matrix\n",
        "from sklearn.decomposition import NMF"
      ]
    },
    {
      "cell_type": "markdown",
      "source": [
        "各ユーザーにおすすめアイテムトップ10を計算する。\n",
        "パラメータとしてここでの潜在因子 (行列分解した時のベクトルの長さ)の次元を50とする"
      ],
      "metadata": {
        "id": "bu5rXEETvz9i"
      }
    },
    {
      "cell_type": "code",
      "source": [
        "topk = 10\n",
        "rank_list = [i+1 for i in range(topk)]\n",
        "latent = 50"
      ],
      "metadata": {
        "id": "9iFtw0zVwBGJ"
      },
      "execution_count": 2,
      "outputs": []
    },
    {
      "cell_type": "code",
      "source": [
        "ML100K_URL = 'http://files.grouplens.org/datasets/movielens/ml-100k/u.data'\n",
        "dataset = pd.read_csv(\n",
        "    ML100K_URL,\n",
        "    names = [\"user_id\", \"item_id\", \"rating\", \"timestamp\"],\n",
        "    sep = \"\\t\"\n",
        ")\n",
        "\n",
        "matrix_data = csr_matrix(\n",
        "    (dataset.rating,\n",
        "    (dataset.user_id, dataset.item_id))\n",
        ")"
      ],
      "metadata": {
        "id": "uJNbmPHFwMeR"
      },
      "execution_count": 3,
      "outputs": []
    },
    {
      "cell_type": "markdown",
      "source": [
        "非負値行列因子分解 (Non-negative Matrix Factorization: NMF) はある行列XをW, Hに近似的に分解する方法の1つ。すべての値が非負となるように学習・予測していくモデル。"
      ],
      "metadata": {
        "id": "lVJQt8p8w8QU"
      }
    },
    {
      "cell_type": "code",
      "source": [
        "nmf = NMF(n_components=latent)\n",
        "# ユーザー因子行列\n",
        "W = nmf.fit_transform(matrix_data)\n",
        "# アイテム因子行列\n",
        "H = nmf.components_"
      ],
      "metadata": {
        "colab": {
          "base_uri": "https://localhost:8080/"
        },
        "id": "TFDGHP9YxWzQ",
        "outputId": "d8442c99-ea37-426c-af60-9ae8c108de90"
      },
      "execution_count": 4,
      "outputs": [
        {
          "output_type": "stream",
          "name": "stderr",
          "text": [
            "/usr/local/lib/python3.7/dist-packages/sklearn/decomposition/_nmf.py:294: FutureWarning: The 'init' value, when 'init=None' and n_components is less than n_samples and n_features, will be changed from 'nndsvd' to 'nndsvda' in 1.1 (renaming of 0.26).\n",
            "  FutureWarning,\n",
            "/usr/local/lib/python3.7/dist-packages/sklearn/decomposition/_nmf.py:1641: ConvergenceWarning: Maximum number of iterations 200 reached. Increase it to improve convergence.\n",
            "  ConvergenceWarning,\n"
          ]
        }
      ]
    },
    {
      "cell_type": "code",
      "source": [
        "# ユーザー因子行列とアイテム因子行列を掛け合わせ、評価行列を復元する\n",
        "WH = np.dot(W, H)\n",
        "\n",
        "# すでに評価したユーザー・アイテムの組み合わせを取り除く\n",
        "recommend_matrix = np.where(\n",
        "    matrix_data.toarray(), 0, WH\n",
        ")"
      ],
      "metadata": {
        "id": "6GMvgCKIxx06"
      },
      "execution_count": 5,
      "outputs": []
    },
    {
      "cell_type": "markdown",
      "source": [
        "ユーザーから見たそれぞれのアイテムの評価トップ10を絞り込むことで推薦データが完成する"
      ],
      "metadata": {
        "id": "QwaNnoL0yfWb"
      }
    },
    {
      "cell_type": "code",
      "source": [
        "# ユニークなユーザーIDのリストを作成する\n",
        "uq_users = np.sort(dataset.user_id.unique().tolist())\n",
        "\n",
        "# 推薦結果を格納するテーブルを作成する\n",
        "df_recommend_list = pd.DataFrame(\n",
        "    columns = ['user_id', 'item_id', 'score', 'rank']\n",
        ")\n",
        "\n",
        "# 各ユーザーに対してトップ10アイテムを絞り込む\n",
        "for user_id in uq_users:\n",
        "  # 対象ユーザーの未接触アイテムへのスコア情報を取得\n",
        "  item_scores = recommend_matrix[user_id]\n",
        "\n",
        "  df_recommend = pd.DataFrame()\n",
        "  df_recommend['user_id'] = [user_id] * topk\n",
        "  # トップ10アイテムのアイテムIDを取得\n",
        "  df_recommend['item_id'] = np.argsort(item_scores)[::-1][:topk]\n",
        "  # トップ10アイテムのスコアを取得\n",
        "  df_recommend['score'] = np.sort(item_scores)[::-1][:topk]\n",
        "  df_recommend['rank'] = rank_list\n",
        "\n",
        "  df_recommend_list = df_recommend_list.append(\n",
        "      df_recommend,\n",
        "      ignore_index=True\n",
        "  )\n",
        "\n",
        "\n",
        "df_recommend_list"
      ],
      "metadata": {
        "colab": {
          "base_uri": "https://localhost:8080/",
          "height": 655
        },
        "id": "5lMdjMNRyemz",
        "outputId": "57abf954-5ff5-496c-d8d0-bbe1de9c1056"
      },
      "execution_count": 6,
      "outputs": [
        {
          "output_type": "execute_result",
          "data": {
            "text/plain": [
              "     user_id item_id     score rank\n",
              "0          1     285  5.037234    1\n",
              "1          1     423  3.889698    2\n",
              "2          1     408  3.800589    3\n",
              "3          1     655  3.713240    4\n",
              "4          1     474  3.188664    5\n",
              "...      ...     ...       ...  ...\n",
              "9425     943     288  2.826179    6\n",
              "9426     943     273  2.770847    7\n",
              "9427     943      17  2.737602    8\n",
              "9428     943     550  2.733348    9\n",
              "9429     943     684  2.703884   10\n",
              "\n",
              "[9430 rows x 4 columns]"
            ],
            "text/html": [
              "\n",
              "  <div id=\"df-d293f105-dbc8-4551-9bfb-683ccc2cbb9f\">\n",
              "    <div class=\"colab-df-container\">\n",
              "      <div>\n",
              "<style scoped>\n",
              "    .dataframe tbody tr th:only-of-type {\n",
              "        vertical-align: middle;\n",
              "    }\n",
              "\n",
              "    .dataframe tbody tr th {\n",
              "        vertical-align: top;\n",
              "    }\n",
              "\n",
              "    .dataframe thead th {\n",
              "        text-align: right;\n",
              "    }\n",
              "</style>\n",
              "<table border=\"1\" class=\"dataframe\">\n",
              "  <thead>\n",
              "    <tr style=\"text-align: right;\">\n",
              "      <th></th>\n",
              "      <th>user_id</th>\n",
              "      <th>item_id</th>\n",
              "      <th>score</th>\n",
              "      <th>rank</th>\n",
              "    </tr>\n",
              "  </thead>\n",
              "  <tbody>\n",
              "    <tr>\n",
              "      <th>0</th>\n",
              "      <td>1</td>\n",
              "      <td>285</td>\n",
              "      <td>5.037234</td>\n",
              "      <td>1</td>\n",
              "    </tr>\n",
              "    <tr>\n",
              "      <th>1</th>\n",
              "      <td>1</td>\n",
              "      <td>423</td>\n",
              "      <td>3.889698</td>\n",
              "      <td>2</td>\n",
              "    </tr>\n",
              "    <tr>\n",
              "      <th>2</th>\n",
              "      <td>1</td>\n",
              "      <td>408</td>\n",
              "      <td>3.800589</td>\n",
              "      <td>3</td>\n",
              "    </tr>\n",
              "    <tr>\n",
              "      <th>3</th>\n",
              "      <td>1</td>\n",
              "      <td>655</td>\n",
              "      <td>3.713240</td>\n",
              "      <td>4</td>\n",
              "    </tr>\n",
              "    <tr>\n",
              "      <th>4</th>\n",
              "      <td>1</td>\n",
              "      <td>474</td>\n",
              "      <td>3.188664</td>\n",
              "      <td>5</td>\n",
              "    </tr>\n",
              "    <tr>\n",
              "      <th>...</th>\n",
              "      <td>...</td>\n",
              "      <td>...</td>\n",
              "      <td>...</td>\n",
              "      <td>...</td>\n",
              "    </tr>\n",
              "    <tr>\n",
              "      <th>9425</th>\n",
              "      <td>943</td>\n",
              "      <td>288</td>\n",
              "      <td>2.826179</td>\n",
              "      <td>6</td>\n",
              "    </tr>\n",
              "    <tr>\n",
              "      <th>9426</th>\n",
              "      <td>943</td>\n",
              "      <td>273</td>\n",
              "      <td>2.770847</td>\n",
              "      <td>7</td>\n",
              "    </tr>\n",
              "    <tr>\n",
              "      <th>9427</th>\n",
              "      <td>943</td>\n",
              "      <td>17</td>\n",
              "      <td>2.737602</td>\n",
              "      <td>8</td>\n",
              "    </tr>\n",
              "    <tr>\n",
              "      <th>9428</th>\n",
              "      <td>943</td>\n",
              "      <td>550</td>\n",
              "      <td>2.733348</td>\n",
              "      <td>9</td>\n",
              "    </tr>\n",
              "    <tr>\n",
              "      <th>9429</th>\n",
              "      <td>943</td>\n",
              "      <td>684</td>\n",
              "      <td>2.703884</td>\n",
              "      <td>10</td>\n",
              "    </tr>\n",
              "  </tbody>\n",
              "</table>\n",
              "<p>9430 rows × 4 columns</p>\n",
              "</div>\n",
              "      <button class=\"colab-df-convert\" onclick=\"convertToInteractive('df-d293f105-dbc8-4551-9bfb-683ccc2cbb9f')\"\n",
              "              title=\"Convert this dataframe to an interactive table.\"\n",
              "              style=\"display:none;\">\n",
              "        \n",
              "  <svg xmlns=\"http://www.w3.org/2000/svg\" height=\"24px\"viewBox=\"0 0 24 24\"\n",
              "       width=\"24px\">\n",
              "    <path d=\"M0 0h24v24H0V0z\" fill=\"none\"/>\n",
              "    <path d=\"M18.56 5.44l.94 2.06.94-2.06 2.06-.94-2.06-.94-.94-2.06-.94 2.06-2.06.94zm-11 1L8.5 8.5l.94-2.06 2.06-.94-2.06-.94L8.5 2.5l-.94 2.06-2.06.94zm10 10l.94 2.06.94-2.06 2.06-.94-2.06-.94-.94-2.06-.94 2.06-2.06.94z\"/><path d=\"M17.41 7.96l-1.37-1.37c-.4-.4-.92-.59-1.43-.59-.52 0-1.04.2-1.43.59L10.3 9.45l-7.72 7.72c-.78.78-.78 2.05 0 2.83L4 21.41c.39.39.9.59 1.41.59.51 0 1.02-.2 1.41-.59l7.78-7.78 2.81-2.81c.8-.78.8-2.07 0-2.86zM5.41 20L4 18.59l7.72-7.72 1.47 1.35L5.41 20z\"/>\n",
              "  </svg>\n",
              "      </button>\n",
              "      \n",
              "  <style>\n",
              "    .colab-df-container {\n",
              "      display:flex;\n",
              "      flex-wrap:wrap;\n",
              "      gap: 12px;\n",
              "    }\n",
              "\n",
              "    .colab-df-convert {\n",
              "      background-color: #E8F0FE;\n",
              "      border: none;\n",
              "      border-radius: 50%;\n",
              "      cursor: pointer;\n",
              "      display: none;\n",
              "      fill: #1967D2;\n",
              "      height: 32px;\n",
              "      padding: 0 0 0 0;\n",
              "      width: 32px;\n",
              "    }\n",
              "\n",
              "    .colab-df-convert:hover {\n",
              "      background-color: #E2EBFA;\n",
              "      box-shadow: 0px 1px 2px rgba(60, 64, 67, 0.3), 0px 1px 3px 1px rgba(60, 64, 67, 0.15);\n",
              "      fill: #174EA6;\n",
              "    }\n",
              "\n",
              "    [theme=dark] .colab-df-convert {\n",
              "      background-color: #3B4455;\n",
              "      fill: #D2E3FC;\n",
              "    }\n",
              "\n",
              "    [theme=dark] .colab-df-convert:hover {\n",
              "      background-color: #434B5C;\n",
              "      box-shadow: 0px 1px 3px 1px rgba(0, 0, 0, 0.15);\n",
              "      filter: drop-shadow(0px 1px 2px rgba(0, 0, 0, 0.3));\n",
              "      fill: #FFFFFF;\n",
              "    }\n",
              "  </style>\n",
              "\n",
              "      <script>\n",
              "        const buttonEl =\n",
              "          document.querySelector('#df-d293f105-dbc8-4551-9bfb-683ccc2cbb9f button.colab-df-convert');\n",
              "        buttonEl.style.display =\n",
              "          google.colab.kernel.accessAllowed ? 'block' : 'none';\n",
              "\n",
              "        async function convertToInteractive(key) {\n",
              "          const element = document.querySelector('#df-d293f105-dbc8-4551-9bfb-683ccc2cbb9f');\n",
              "          const dataTable =\n",
              "            await google.colab.kernel.invokeFunction('convertToInteractive',\n",
              "                                                     [key], {});\n",
              "          if (!dataTable) return;\n",
              "\n",
              "          const docLinkHtml = 'Like what you see? Visit the ' +\n",
              "            '<a target=\"_blank\" href=https://colab.research.google.com/notebooks/data_table.ipynb>data table notebook</a>'\n",
              "            + ' to learn more about interactive tables.';\n",
              "          element.innerHTML = '';\n",
              "          dataTable['output_type'] = 'display_data';\n",
              "          await google.colab.output.renderOutput(dataTable, element);\n",
              "          const docLink = document.createElement('div');\n",
              "          docLink.innerHTML = docLinkHtml;\n",
              "          element.appendChild(docLink);\n",
              "        }\n",
              "      </script>\n",
              "    </div>\n",
              "  </div>\n",
              "  "
            ]
          },
          "metadata": {},
          "execution_count": 6
        }
      ]
    }
  ]
}